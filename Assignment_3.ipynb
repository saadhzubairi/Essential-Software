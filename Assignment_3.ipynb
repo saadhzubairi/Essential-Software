{
 "metadata": {
  "language_info": {
   "codemirror_mode": {
    "name": "ipython",
    "version": 3
   },
   "file_extension": ".py",
   "mimetype": "text/x-python",
   "name": "python",
   "nbconvert_exporter": "python",
   "pygments_lexer": "ipython3",
   "version": "3.8.3-final"
  },
  "orig_nbformat": 2,
  "kernelspec": {
   "name": "python3",
   "display_name": "Python 3.8.3 32-bit",
   "metadata": {
    "interpreter": {
     "hash": "e6858818f08132fef2d8e9cc72590e325ddf64885e96d19b2831d8fd2b733b18"
    }
   }
  }
 },
 "nbformat": 4,
 "nbformat_minor": 2,
 "cells": [
  {
   "source": [
    "# Assignment 3\n",
    "## Essential Software 50576\n",
    "### Due: 28-02-21"
   ],
   "cell_type": "markdown",
   "metadata": {}
  },
  {
   "source": [
    "Q1) Write a python code fragment that prints the harmonic sum of an input number n.\n",
    "\n",
    "for e.g: when n = 2, harmonic sum = 1 + 1/2 = 3/2"
   ],
   "cell_type": "markdown",
   "metadata": {}
  },
  {
   "cell_type": "code",
   "execution_count": null,
   "metadata": {},
   "outputs": [],
   "source": []
  },
  {
   "source": [
    "Q2) Write two code segments that compute sin x and cos x using the Taylor series expansions:\n",
    "\n",
    "sinx=x−(x^3)/3!+(x^5)/5!−(x^7)/7!+…\n",
    "|| cosx=1−(x^2)/2!+(x^4)/4!−(x^6)/6!+…"
   ],
   "cell_type": "markdown",
   "metadata": {}
  },
  {
   "cell_type": "code",
   "execution_count": null,
   "metadata": {},
   "outputs": [],
   "source": []
  },
  {
   "source": [
    "Q3) What is wrong with the following code which is intended to calculate the sum of numbers from 1 to N? Explain your answer in the markup cell below the code."
   ],
   "cell_type": "markdown",
   "metadata": {}
  },
  {
   "cell_type": "code",
   "execution_count": 8,
   "metadata": {},
   "outputs": [
    {
     "output_type": "stream",
     "name": "stdout",
     "text": [
      "15\n"
     ]
    }
   ],
   "source": [
    "n=int(input(\"Enter number: \"))\n",
    "for i in range(0,n+1):\n",
    "    sum = 0\n",
    "    sum = sum + i\n",
    "print(sum)"
   ]
  },
  {
   "source": [
    "Answer:"
   ],
   "cell_type": "markdown",
   "metadata": {}
  },
  {
   "source": [
    "Q4) Write a code which may involve a nested for loop that prints the following pattern:\n",
    "\n",
    "###### * . . .\n",
    "###### * * . .\n",
    "###### * * * .\n",
    "###### * * * *"
   ],
   "cell_type": "markdown",
   "metadata": {}
  },
  {
   "cell_type": "code",
   "execution_count": null,
   "metadata": {},
   "outputs": [],
   "source": []
  },
  {
   "source": [
    "Q5) Given a string, create a new string with all the consecutive duplicates removed. Ex: ABBCCCCCBBAB -> ABCBAB.\n",
    "\n"
   ],
   "cell_type": "markdown",
   "metadata": {}
  },
  {
   "cell_type": "code",
   "execution_count": null,
   "metadata": {},
   "outputs": [],
   "source": []
  }
 ]
}
