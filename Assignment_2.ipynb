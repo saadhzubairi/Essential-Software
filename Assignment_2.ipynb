{
 "metadata": {
  "language_info": {
   "codemirror_mode": {
    "name": "ipython",
    "version": 3
   },
   "file_extension": ".py",
   "mimetype": "text/x-python",
   "name": "python",
   "nbconvert_exporter": "python",
   "pygments_lexer": "ipython3",
   "version": "3.8.3-final"
  },
  "orig_nbformat": 2,
  "kernelspec": {
   "name": "python3",
   "display_name": "Python 3.8.3 32-bit",
   "metadata": {
    "interpreter": {
     "hash": "e6858818f08132fef2d8e9cc72590e325ddf64885e96d19b2831d8fd2b733b18"
    }
   }
  }
 },
 "nbformat": 4,
 "nbformat_minor": 2,
 "cells": [
  {
   "source": [
    "Q1)  Your first task is to print all the multiples of 7 in the range 0 to 100 using a for loop. Keep in mind that 0 is also a multiple of 7."
   ],
   "cell_type": "markdown",
   "metadata": {}
  },
  {
   "cell_type": "code",
   "execution_count": null,
   "metadata": {},
   "outputs": [],
   "source": []
  },
  {
   "source": [
    "Q2) Write a code that prints the first 30 cube numbers (x**3), starting with x=0 and ending with x=30."
   ],
   "cell_type": "markdown",
   "metadata": {}
  },
  {
   "cell_type": "code",
   "execution_count": null,
   "metadata": {},
   "outputs": [],
   "source": []
  },
  {
   "source": [
    "Q4) Write a code that prints the factorial of a given number. See if you can do it using both for and while loops.\n",
    "\n",
    "(Remember that the factorial of a number is defined as the product of an integer and all integers before it. For example, the factorial of five (5!) is equal to 1\\*2\\*3\\*4\\*5=120. Also recall that the factorial of zero (0!) is equal to 1.)"
   ],
   "cell_type": "markdown",
   "metadata": {}
  },
  {
   "cell_type": "code",
   "execution_count": null,
   "metadata": {},
   "outputs": [],
   "source": []
  },
  {
   "source": [
    "Q3) The following code contains an error that will leave it in an infinite loop. Fix the code so that it works for all numbers.\n",
    "\n",
    "for eg. \n",
    "When n = 0, we get False;\n",
    "When n = 1, we get True;\n",
    "When n = 8, we get True;\n",
    "When n = 9, we get False;\n",
    "\n",
    "(The code takes in an integer n and return True if n is a power of 2 or False if n is not a power of 2)\n"
   ],
   "cell_type": "markdown",
   "metadata": {}
  },
  {
   "cell_type": "code",
   "execution_count": null,
   "metadata": {},
   "outputs": [],
   "source": [
    "\n",
    "n = 0\n",
    "# Check if the number can be divided by two without a remainder\n",
    "while n % 2 == 0:\n",
    "  n = n / 2\n",
    "# If after dividing by two the number is 1, it's a power of two\n",
    "if n == 1:\n",
    "  return True\n",
    "return False"
   ]
  },
  {
   "source": [
    "Q4) If we have a string variable named Weather = \"Rainfall\", what code will print the substring or all characters before the \"f\"?"
   ],
   "cell_type": "markdown",
   "metadata": {}
  },
  {
   "cell_type": "code",
   "execution_count": null,
   "metadata": {},
   "outputs": [],
   "source": []
  },
  {
   "source": [
    "Q5) When animal = \"Hippopotamus\", what commands will return (i) \"pop\" (ii) \"t\" (iii) \"us\"?"
   ],
   "cell_type": "markdown",
   "metadata": {}
  },
  {
   "cell_type": "code",
   "execution_count": null,
   "metadata": {},
   "outputs": [],
   "source": []
  },
  {
   "source": [],
   "cell_type": "markdown",
   "metadata": {}
  }
 ]
}