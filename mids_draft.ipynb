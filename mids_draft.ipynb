{
 "metadata": {
  "language_info": {
   "codemirror_mode": {
    "name": "ipython",
    "version": 3
   },
   "file_extension": ".py",
   "mimetype": "text/x-python",
   "name": "python",
   "nbconvert_exporter": "python",
   "pygments_lexer": "ipython3",
   "version": "3.8.3-final"
  },
  "orig_nbformat": 2,
  "kernelspec": {
   "name": "python3",
   "display_name": "Python 3.8.3 32-bit",
   "metadata": {
    "interpreter": {
     "hash": "e6858818f08132fef2d8e9cc72590e325ddf64885e96d19b2831d8fd2b733b18"
    }
   }
  }
 },
 "nbformat": 4,
 "nbformat_minor": 2,
 "cells": [
  {
   "source": [
    "# ES Mid Term Draft"
   ],
   "cell_type": "markdown",
   "metadata": {}
  },
  {
   "source": [
    "### String Problems"
   ],
   "cell_type": "markdown",
   "metadata": {}
  },
  {
   "source": [
    "Given a string, return a version without the first and last char WITHOUT using string slicing, so \"Hello\" yields \"ell\". The string length will be at least 2.\n",
    "\n",
    "without_end('Hello') → 'ell'\n",
    "<br>\n",
    "without_end('python') → 'ython'\n",
    "<br>\n",
    "without_end('coding') → 'odin'"
   ],
   "cell_type": "markdown",
   "metadata": {}
  },
  {
   "cell_type": "code",
   "execution_count": null,
   "metadata": {},
   "outputs": [],
   "source": [
    "def without_end():\n"
   ]
  },
  {
   "source": [
    "Return True if the given string contains an appearance of \"xyz\" where the xyz is not directly preceeded by a period (.); You cannot use the string.contains() function for this task. So \"xxyz\" counts but \"x.xyz\" does not. \n",
    "\n",
    "\n",
    "xyz_there('abcxyz') → True<br>\n",
    "xyz_there('abc.xyz') → False<br>\n",
    "xyz_there('xyz.abc') → True"
   ],
   "cell_type": "markdown",
   "metadata": {}
  },
  {
   "cell_type": "code",
   "execution_count": null,
   "metadata": {},
   "outputs": [],
   "source": [
    "def xyz_there():"
   ]
  },
  {
   "source": [
    "\n",
    "Return True if the string \"cat\" and \"dog\" appear the same number of times in the given string.\n",
    "\n",
    "\n",
    "hot_dog('hotdog') → True<br>\n",
    "hot_dog('hothot') → False<br>\n",
    "hot_dog('1dog1hododog') → True"
   ],
   "cell_type": "markdown",
   "metadata": {}
  },
  {
   "cell_type": "code",
   "execution_count": null,
   "metadata": {},
   "outputs": [],
   "source": [
    "def cat_dog():"
   ]
  },
  {
   "source": [
    "### List Problems"
   ],
   "cell_type": "markdown",
   "metadata": {}
  },
  {
   "source": [],
   "cell_type": "markdown",
   "metadata": {}
  }
 ]
}